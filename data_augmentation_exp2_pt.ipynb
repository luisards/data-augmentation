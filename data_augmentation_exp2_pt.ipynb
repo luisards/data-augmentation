{
 "cells": [
  {
   "cell_type": "code",
   "execution_count": 209,
   "id": "palestinian-playlist",
   "metadata": {},
   "outputs": [],
   "source": [
    "import pandas as pd\n",
    "import matplotlib.pyplot as plt\n",
    "import seaborn as sns\n",
    "import numpy as np\n",
    "import nltk\n",
    "from nltk.tokenize import word_tokenize\n",
    "from tqdm import tqdm\n",
    "import gensim\n",
    "import nlpaug\n",
    "import nlpaug.augmenter.word as naw\n",
    "import keras\n",
    "from sklearn.utils import shuffle\n",
    "from sklearn.metrics import roc_auc_score\n",
    "from sklearn.metrics import cohen_kappa_score\n",
    "from sklearn.model_selection import train_test_split\n",
    "from keras.preprocessing.text import Tokenizer\n",
    "from keras.preprocessing.sequence import pad_sequences\n",
    "from keras.models import Sequential\n",
    "from keras.layers import Embedding,LSTM,Dense,SpatialDropout1D\n",
    "from keras.initializers import Constant\n",
    "from keras.optimizers import Adam"
   ]
  },
  {
   "cell_type": "code",
   "execution_count": 175,
   "id": "public-filename",
   "metadata": {},
   "outputs": [],
   "source": [
    "stop = list()\n",
    "file = open('stopwords_pt.txt',encoding='utf-8')\n",
    "for word in file.read().splitlines():\n",
    "    stop.append(word)"
   ]
  },
  {
   "cell_type": "code",
   "execution_count": 176,
   "id": "original-anime",
   "metadata": {},
   "outputs": [],
   "source": [
    "data = pd.read_csv('OffComBR3.csv', sep=',')"
   ]
  },
  {
   "cell_type": "code",
   "execution_count": 177,
   "id": "essential-ozone",
   "metadata": {},
   "outputs": [],
   "source": [
    "aug_w2v = naw.WordEmbsAug(\n",
    "    model_type='fasttext', model_path='cbow_s100.txt',\n",
    "    action=\"substitute\")"
   ]
  },
  {
   "cell_type": "code",
   "execution_count": 181,
   "id": "rotary-covering",
   "metadata": {},
   "outputs": [
    {
     "name": "stdout",
     "output_type": "stream",
     "text": [
      "Shape of Train (723, 2)\n",
      "Shape of Validation  (310, 2)\n"
     ]
    }
   ],
   "source": [
    "train,valid=train_test_split(data,test_size=0.30)\n",
    "print('Shape of Train',train.shape)\n",
    "print(\"Shape of Validation \",valid.shape)"
   ]
  },
  {
   "cell_type": "code",
   "execution_count": 182,
   "id": "satisfactory-petroleum",
   "metadata": {},
   "outputs": [
    {
     "data": {
      "text/plain": [
       "0    584\n",
       "1    139\n",
       "Name: target, dtype: int64"
      ]
     },
     "execution_count": 182,
     "metadata": {},
     "output_type": "execute_result"
    }
   ],
   "source": [
    "train.target.value_counts()"
   ]
  },
  {
   "cell_type": "code",
   "execution_count": 183,
   "id": "automotive-probe",
   "metadata": {},
   "outputs": [],
   "source": [
    "from sklearn.utils import shuffle\n",
    "\n",
    "def augment_text(df,samples=300,pr=0.2):\n",
    "    aug_w2v.aug_p=pr\n",
    "    new_text=[]\n",
    "    \n",
    "    ##dropping samples from validation\n",
    "    df_n=df[df.target==1].reset_index(drop=True)\n",
    "\n",
    "    ## data augmentation loop\n",
    "    for i in tqdm(np.random.randint(0,len(df_n),samples)):\n",
    "        \n",
    "            text = df_n.iloc[i]['tweet_text']\n",
    "            augmented_text = aug_w2v.augment(text)\n",
    "            new_text.append(augmented_text)\n",
    "    \n",
    "    \n",
    "    ## dataframe\n",
    "    new=pd.DataFrame({'tweet_text':new_text,'target':1})\n",
    "    df=shuffle(df.append(new).reset_index(drop=True))\n",
    "    return df    "
   ]
  },
  {
   "cell_type": "code",
   "execution_count": 184,
   "id": "existing-offset",
   "metadata": {},
   "outputs": [
    {
     "name": "stderr",
     "output_type": "stream",
     "text": [
      "100%|████████████████████████████████████████████████████████████████████████████████| 876/876 [03:10<00:00,  4.60it/s]\n"
     ]
    }
   ],
   "source": [
    "train = augment_text(train,samples=876)"
   ]
  },
  {
   "cell_type": "code",
   "execution_count": 185,
   "id": "planned-latest",
   "metadata": {},
   "outputs": [
    {
     "data": {
      "text/plain": [
       "1    1015\n",
       "0     584\n",
       "Name: target, dtype: int64"
      ]
     },
     "execution_count": 185,
     "metadata": {},
     "output_type": "execute_result"
    }
   ],
   "source": [
    "train.target.value_counts()"
   ]
  },
  {
   "cell_type": "code",
   "execution_count": 187,
   "id": "monthly-pastor",
   "metadata": {},
   "outputs": [],
   "source": [
    "from sklearn.utils import shuffle\n",
    "\n",
    "def augment_text2(df,samples=300,pr=0.2):\n",
    "    aug_w2v.aug_p=pr\n",
    "    new_text=[]\n",
    "    \n",
    "    ##dropping samples from validation\n",
    "    df_n=df[df.target==0].reset_index(drop=True)\n",
    "\n",
    "    ## data augmentation loop\n",
    "    for i in tqdm(np.random.randint(0,len(df_n),samples)):\n",
    "        \n",
    "            text = df_n.iloc[i]['tweet_text']\n",
    "            augmented_text = aug_w2v.augment(text)\n",
    "            new_text.append(augmented_text)\n",
    "    \n",
    "    \n",
    "    ## dataframe\n",
    "    new=pd.DataFrame({'tweet_text':new_text,'target':0})\n",
    "    df=shuffle(df.append(new).reset_index(drop=True))\n",
    "    return df"
   ]
  },
  {
   "cell_type": "code",
   "execution_count": 188,
   "id": "proprietary-enzyme",
   "metadata": {},
   "outputs": [
    {
     "name": "stderr",
     "output_type": "stream",
     "text": [
      "100%|████████████████████████████████████████████████████████████████████████████████| 401/401 [01:58<00:00,  3.39it/s]\n"
     ]
    }
   ],
   "source": [
    "train = augment_text2(train,samples=401)\n",
    "data = train.append(valid).reset_index(drop=True)"
   ]
  },
  {
   "cell_type": "code",
   "execution_count": 189,
   "id": "assured-identifier",
   "metadata": {},
   "outputs": [
    {
     "data": {
      "text/plain": [
       "1    1015\n",
       "0     985\n",
       "Name: target, dtype: int64"
      ]
     },
     "execution_count": 189,
     "metadata": {},
     "output_type": "execute_result"
    }
   ],
   "source": [
    "train.target.value_counts()"
   ]
  },
  {
   "cell_type": "code",
   "execution_count": 190,
   "id": "annoying-directive",
   "metadata": {},
   "outputs": [
    {
     "data": {
      "text/plain": [
       "0    247\n",
       "1     63\n",
       "Name: target, dtype: int64"
      ]
     },
     "execution_count": 190,
     "metadata": {},
     "output_type": "execute_result"
    }
   ],
   "source": [
    "valid.target.value_counts()"
   ]
  },
  {
   "cell_type": "code",
   "execution_count": 191,
   "id": "protecting-packet",
   "metadata": {},
   "outputs": [
    {
     "data": {
      "text/plain": [
       "0    1232\n",
       "1    1078\n",
       "Name: target, dtype: int64"
      ]
     },
     "execution_count": 191,
     "metadata": {},
     "output_type": "execute_result"
    }
   ],
   "source": [
    "data.target.value_counts()"
   ]
  },
  {
   "cell_type": "code",
   "execution_count": 192,
   "id": "average-community",
   "metadata": {},
   "outputs": [
    {
     "name": "stderr",
     "output_type": "stream",
     "text": [
      "C:\\Users\\luisa\\anaconda3\\lib\\site-packages\\seaborn\\_decorators.py:36: FutureWarning: Pass the following variables as keyword args: x, y. From version 0.12, the only valid positional argument will be `data`, and passing other arguments without an explicit keyword will result in an error or misinterpretation.\n",
      "  warnings.warn(\n"
     ]
    },
    {
     "data": {
      "text/plain": [
       "Text(0.5, 0, 'Target values')"
      ]
     },
     "execution_count": 192,
     "metadata": {},
     "output_type": "execute_result"
    },
    {
     "data": {
      "image/png": "[encoded data removed]",
      "text/plain": [
       "<Figure size 432x288 with 1 Axes>"
      ]
     },
     "metadata": {
      "needs_background": "light"
     },
     "output_type": "display_data"
    }
   ],
   "source": [
    "x=train.target.value_counts()\n",
    "sns.barplot(x.index,x)\n",
    "plt.gca().set_ylabel('samples')\n",
    "plt.gca().set_xlabel('Target values')"
   ]
  },
  {
   "cell_type": "code",
   "execution_count": 193,
   "id": "entitled-colombia",
   "metadata": {},
   "outputs": [],
   "source": [
    "def create_corpus(data):\n",
    "    corpus=[]\n",
    "    for tweet in tqdm(data['tweet_text']):\n",
    "        words=[word.lower() for word in word_tokenize(tweet, language='portuguese') if((word.isalpha()==1) & (word not in stop))]\n",
    "        corpus.append(words)\n",
    "    return corpus"
   ]
  },
  {
   "cell_type": "code",
   "execution_count": 194,
   "id": "moral-strategy",
   "metadata": {},
   "outputs": [
    {
     "name": "stderr",
     "output_type": "stream",
     "text": [
      "100%|████████████████████████████████████████████████████████████████████████████| 2310/2310 [00:01<00:00, 1312.75it/s]\n"
     ]
    }
   ],
   "source": [
    "corpus=create_corpus(data)"
   ]
  },
  {
   "cell_type": "code",
   "execution_count": 195,
   "id": "classical-isaac",
   "metadata": {},
   "outputs": [
    {
     "name": "stderr",
     "output_type": "stream",
     "text": [
      "929606it [01:18, 11899.83it/s]\n"
     ]
    }
   ],
   "source": [
    "embeddings_index = {}\n",
    "f = open('cbow_s100.txt',encoding='utf-8')\n",
    "for line in tqdm(f):\n",
    "   \tvalues = line.strip().rsplit(' ')\n",
    "   \tword = values[0]\n",
    "   \tcoefs = np.asarray(values[1:], dtype='float32')\n",
    "   \tembeddings_index[word] = coefs\n",
    "f.close()"
   ]
  },
  {
   "cell_type": "code",
   "execution_count": 196,
   "id": "close-sunglasses",
   "metadata": {},
   "outputs": [],
   "source": [
    "MAX_LEN=50\n",
    "tokenizer_obj=Tokenizer()\n",
    "tokenizer_obj.fit_on_texts(corpus)\n",
    "sequences=tokenizer_obj.texts_to_sequences(corpus)\n",
    "\n",
    "tweet_pad=pad_sequences(sequences,maxlen=MAX_LEN,truncating='post',padding='post')"
   ]
  },
  {
   "cell_type": "code",
   "execution_count": 197,
   "id": "saving-burden",
   "metadata": {},
   "outputs": [
    {
     "name": "stdout",
     "output_type": "stream",
     "text": [
      "Number of unique words: 4954\n"
     ]
    }
   ],
   "source": [
    "word_index=tokenizer_obj.word_index\n",
    "print('Number of unique words:',len(word_index))"
   ]
  },
  {
   "cell_type": "code",
   "execution_count": 198,
   "id": "medium-ministry",
   "metadata": {},
   "outputs": [
    {
     "name": "stderr",
     "output_type": "stream",
     "text": [
      "100%|██████████████████████████████████████████████████████████████████████████| 4954/4954 [00:00<00:00, 160999.40it/s]\n"
     ]
    }
   ],
   "source": [
    "num_words=len(word_index)+1\n",
    "embedding_matrix=np.zeros((num_words,100))\n",
    "\n",
    "for word,i in tqdm(word_index.items()):\n",
    "    if i > num_words:\n",
    "        continue\n",
    "    \n",
    "    emb_vec=embeddings_index.get(word)\n",
    "    if emb_vec is not None:\n",
    "        embedding_matrix[i]=emb_vec"
   ]
  },
  {
   "cell_type": "code",
   "execution_count": 199,
   "id": "spanish-devices",
   "metadata": {},
   "outputs": [],
   "source": [
    "model=Sequential()\n",
    "\n",
    "embedding=Embedding(num_words,100,embeddings_initializer=Constant(embedding_matrix),\n",
    "                   input_length=MAX_LEN,trainable=False)\n",
    "\n",
    "model.add(embedding)\n",
    "model.add(SpatialDropout1D(0.2))\n",
    "model.add(LSTM(100, dropout=0.2, recurrent_dropout=0.2))\n",
    "model.add(Dense(1, activation='sigmoid'))\n",
    "\n",
    "\n",
    "optimzer=Adam(learning_rate=1e-5)\n",
    "\n",
    "model.compile(loss='binary_crossentropy',optimizer=optimzer,metrics=['accuracy'])"
   ]
  },
  {
   "cell_type": "code",
   "execution_count": 200,
   "id": "negative-translator",
   "metadata": {},
   "outputs": [
    {
     "name": "stdout",
     "output_type": "stream",
     "text": [
      "Model: \"sequential_3\"\n",
      "_________________________________________________________________\n",
      "Layer (type)                 Output Shape              Param #   \n",
      "=================================================================\n",
      "embedding_3 (Embedding)      (None, 50, 100)           495500    \n",
      "_________________________________________________________________\n",
      "spatial_dropout1d_3 (Spatial (None, 50, 100)           0         \n",
      "_________________________________________________________________\n",
      "lstm_3 (LSTM)                (None, 100)               80400     \n",
      "_________________________________________________________________\n",
      "dense_3 (Dense)              (None, 1)                 101       \n",
      "=================================================================\n",
      "Total params: 576,001\n",
      "Trainable params: 80,501\n",
      "Non-trainable params: 495,500\n",
      "_________________________________________________________________\n"
     ]
    }
   ],
   "source": [
    "model.summary()"
   ]
  },
  {
   "cell_type": "code",
   "execution_count": 201,
   "id": "median-contest",
   "metadata": {},
   "outputs": [],
   "source": [
    "X_train,y_train = tweet_pad[:train.shape[0]],data['target'][:train.shape[0]]\n",
    "X_test,y_test= tweet_pad[train.shape[0]:],data['target'][train.shape[0]:]"
   ]
  },
  {
   "cell_type": "code",
   "execution_count": 208,
   "id": "extraordinary-birmingham",
   "metadata": {},
   "outputs": [
    {
     "name": "stdout",
     "output_type": "stream",
     "text": [
      "Epoch 1/10\n",
      "32/32 - 4s - loss: 0.6046 - accuracy: 0.6895 - val_loss: 0.5110 - val_accuracy: 0.7452\n",
      "Epoch 2/10\n",
      "32/32 - 6s - loss: 0.5891 - accuracy: 0.7055 - val_loss: 0.5047 - val_accuracy: 0.7355\n",
      "Epoch 3/10\n",
      "32/32 - 8s - loss: 0.5742 - accuracy: 0.7200 - val_loss: 0.5054 - val_accuracy: 0.7258\n",
      "Epoch 4/10\n",
      "32/32 - 8s - loss: 0.5714 - accuracy: 0.7215 - val_loss: 0.5108 - val_accuracy: 0.7194\n",
      "Epoch 5/10\n",
      "32/32 - 7s - loss: 0.5654 - accuracy: 0.7220 - val_loss: 0.5121 - val_accuracy: 0.7194\n",
      "Epoch 6/10\n",
      "32/32 - 7s - loss: 0.5536 - accuracy: 0.7265 - val_loss: 0.5177 - val_accuracy: 0.7161\n",
      "Epoch 7/10\n",
      "32/32 - 9s - loss: 0.5452 - accuracy: 0.7300 - val_loss: 0.5126 - val_accuracy: 0.7258\n",
      "Epoch 8/10\n",
      "32/32 - 9s - loss: 0.5466 - accuracy: 0.7325 - val_loss: 0.5152 - val_accuracy: 0.7226\n",
      "Epoch 9/10\n",
      "32/32 - 10s - loss: 0.5381 - accuracy: 0.7285 - val_loss: 0.5109 - val_accuracy: 0.7290\n",
      "Epoch 10/10\n",
      "32/32 - 9s - loss: 0.5262 - accuracy: 0.7615 - val_loss: 0.4996 - val_accuracy: 0.7419\n"
     ]
    }
   ],
   "source": [
    "history=model.fit(X_train,y_train,batch_size=64,epochs=10,validation_data=(X_test,y_test),verbose=2, shuffle=True)"
   ]
  },
  {
   "cell_type": "code",
   "execution_count": 206,
   "id": "narrow-desperate",
   "metadata": {},
   "outputs": [],
   "source": [
    "y_pre=model.predict(X_test)\n",
    "y_pre=np.round(y_pre).astype(int).reshape(310)"
   ]
  },
  {
   "cell_type": "code",
   "execution_count": 207,
   "id": "frozen-pattern",
   "metadata": {},
   "outputs": [
    {
     "name": "stdout",
     "output_type": "stream",
     "text": [
      "0.6632702571567201\n"
     ]
    }
   ],
   "source": [
    "print(roc_auc_score(y_pre,y_test))"
   ]
  },
  {
   "cell_type": "code",
   "execution_count": 210,
   "id": "promotional-nicaragua",
   "metadata": {},
   "outputs": [
    {
     "name": "stdout",
     "output_type": "stream",
     "text": [
      "0.35180345007841074\n"
     ]
    }
   ],
   "source": [
    "print(cohen_kappa_score(y_test, y_pre))"
   ]
  },
  {
   "cell_type": "code",
   "execution_count": null,
   "id": "enormous-cameroon",
   "metadata": {},
   "outputs": [],
   "source": []
  }
 ],
 "metadata": {
  "kernelspec": {
   "display_name": "Python 3",
   "language": "python",
   "name": "python3"
  },
  "language_info": {
   "codemirror_mode": {
    "name": "ipython",
    "version": 3
   },
   "file_extension": ".py",
   "mimetype": "text/x-python",
   "name": "python",
   "nbconvert_exporter": "python",
   "pygments_lexer": "ipython3",
   "version": "3.8.3"
  }
 },
 "nbformat": 4,
 "nbformat_minor": 5
}
