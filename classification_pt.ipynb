{
 "cells": [
  {
   "cell_type": "code",
   "execution_count": 51,
   "id": "sought-representative",
   "metadata": {},
   "outputs": [],
   "source": [
    "import pandas as pd\n",
    "import matplotlib.pyplot as plt\n",
    "import seaborn as sns\n",
    "import numpy as np\n",
    "import nltk\n",
    "from nltk.tokenize import word_tokenize\n",
    "from tqdm import tqdm\n",
    "import gensim\n",
    "import keras\n",
    "from sklearn.utils import shuffle\n",
    "from sklearn.metrics import roc_auc_score\n",
    "from sklearn.metrics import cohen_kappa_score\n",
    "from sklearn.model_selection import train_test_split\n",
    "from keras.preprocessing.text import Tokenizer\n",
    "from keras.preprocessing.sequence import pad_sequences\n",
    "from keras.models import Sequential\n",
    "from keras.layers import Embedding,LSTM,Dense,SpatialDropout1D\n",
    "from keras.initializers import Constant\n",
    "from keras.optimizers import Adam"
   ]
  },
  {
   "cell_type": "code",
   "execution_count": 4,
   "id": "fleet-rouge",
   "metadata": {},
   "outputs": [],
   "source": [
    "stop = list()\n",
    "file = open('stopwords_pt.txt',encoding='utf-8')\n",
    "for word in file.read().splitlines():\n",
    "    stop.append(word)"
   ]
  },
  {
   "cell_type": "code",
   "execution_count": 5,
   "id": "continued-delay",
   "metadata": {
    "scrolled": true
   },
   "outputs": [],
   "source": [
    "data = pd.read_csv('OffComBR3.csv', sep=',')"
   ]
  },
  {
   "cell_type": "code",
   "execution_count": 6,
   "id": "nearby-lawrence",
   "metadata": {},
   "outputs": [
    {
     "data": {
      "text/html": [
       "<div>\n",
       "<style scoped>\n",
       "    .dataframe tbody tr th:only-of-type {\n",
       "        vertical-align: middle;\n",
       "    }\n",
       "\n",
       "    .dataframe tbody tr th {\n",
       "        vertical-align: top;\n",
       "    }\n",
       "\n",
       "    .dataframe thead th {\n",
       "        text-align: right;\n",
       "    }\n",
       "</style>\n",
       "<table border=\"1\" class=\"dataframe\">\n",
       "  <thead>\n",
       "    <tr style=\"text-align: right;\">\n",
       "      <th></th>\n",
       "      <th>target</th>\n",
       "      <th>tweet_text</th>\n",
       "    </tr>\n",
       "  </thead>\n",
       "  <tbody>\n",
       "    <tr>\n",
       "      <th>0</th>\n",
       "      <td>1</td>\n",
       "      <td>Votaram no PEZAO Agora tomem no CZAO</td>\n",
       "    </tr>\n",
       "    <tr>\n",
       "      <th>1</th>\n",
       "      <td>0</td>\n",
       "      <td>cuidado com a poupanca pessoal Lembram o que a...</td>\n",
       "    </tr>\n",
       "    <tr>\n",
       "      <th>2</th>\n",
       "      <td>0</td>\n",
       "      <td>Sabe o que eu acho engracado os nossos governa...</td>\n",
       "    </tr>\n",
       "    <tr>\n",
       "      <th>3</th>\n",
       "      <td>0</td>\n",
       "      <td>Podiam retirar dos lucros dos bancos</td>\n",
       "    </tr>\n",
       "    <tr>\n",
       "      <th>4</th>\n",
       "      <td>0</td>\n",
       "      <td>CADE O GALVAO PRA NARRAR AGORA   FALIIIIUUUUUU...</td>\n",
       "    </tr>\n",
       "    <tr>\n",
       "      <th>5</th>\n",
       "      <td>0</td>\n",
       "      <td>Nao e possivel que deputados tenham tantos car...</td>\n",
       "    </tr>\n",
       "    <tr>\n",
       "      <th>6</th>\n",
       "      <td>0</td>\n",
       "      <td>Sejam honestos aprovem o projeto original vamo...</td>\n",
       "    </tr>\n",
       "    <tr>\n",
       "      <th>7</th>\n",
       "      <td>0</td>\n",
       "      <td>Nao a pizza anunciada de anistia do caixa  Sim...</td>\n",
       "    </tr>\n",
       "    <tr>\n",
       "      <th>8</th>\n",
       "      <td>0</td>\n",
       "      <td>quem ja viu bandidos fazendo leis contra antic...</td>\n",
       "    </tr>\n",
       "    <tr>\n",
       "      <th>9</th>\n",
       "      <td>0</td>\n",
       "      <td>Olha os caras fazendo algo de util e de intere...</td>\n",
       "    </tr>\n",
       "  </tbody>\n",
       "</table>\n",
       "</div>"
      ],
      "text/plain": [
       "   target                                         tweet_text\n",
       "0       1               Votaram no PEZAO Agora tomem no CZAO\n",
       "1       0  cuidado com a poupanca pessoal Lembram o que a...\n",
       "2       0  Sabe o que eu acho engracado os nossos governa...\n",
       "3       0              Podiam retirar dos lucros dos bancos \n",
       "4       0  CADE O GALVAO PRA NARRAR AGORA   FALIIIIUUUUUU...\n",
       "5       0  Nao e possivel que deputados tenham tantos car...\n",
       "6       0  Sejam honestos aprovem o projeto original vamo...\n",
       "7       0  Nao a pizza anunciada de anistia do caixa  Sim...\n",
       "8       0  quem ja viu bandidos fazendo leis contra antic...\n",
       "9       0  Olha os caras fazendo algo de util e de intere..."
      ]
     },
     "execution_count": 6,
     "metadata": {},
     "output_type": "execute_result"
    }
   ],
   "source": [
    "data.head(10)"
   ]
  },
  {
   "cell_type": "code",
   "execution_count": 50,
   "id": "plastic-happiness",
   "metadata": {},
   "outputs": [
    {
     "name": "stderr",
     "output_type": "stream",
     "text": [
      "C:\\Users\\luisa\\anaconda3\\lib\\site-packages\\seaborn\\_decorators.py:36: FutureWarning: Pass the following variables as keyword args: x, y. From version 0.12, the only valid positional argument will be `data`, and passing other arguments without an explicit keyword will result in an error or misinterpretation.\n",
      "  warnings.warn(\n"
     ]
    },
    {
     "data": {
      "text/plain": [
       "Text(0.5, 0, 'Target values')"
      ]
     },
     "execution_count": 50,
     "metadata": {},
     "output_type": "execute_result"
    },
    {
     "data": {
      "image/png": "[encoded data removed]",
      "text/plain": [
       "<Figure size 432x288 with 1 Axes>"
      ]
     },
     "metadata": {
      "needs_background": "light"
     },
     "output_type": "display_data"
    }
   ],
   "source": [
    "x=data.target.value_counts()\n",
    "sns.barplot(x.index,x)\n",
    "plt.gca().set_ylabel('samples')\n",
    "plt.gca().set_xlabel('Target values')"
   ]
  },
  {
   "cell_type": "code",
   "execution_count": 44,
   "id": "appreciated-hughes",
   "metadata": {},
   "outputs": [],
   "source": [
    "data = data.sample(frac=1).reset_index(drop=True)"
   ]
  },
  {
   "cell_type": "code",
   "execution_count": 45,
   "id": "consolidated-basis",
   "metadata": {},
   "outputs": [],
   "source": [
    "def create_corpus(data):\n",
    "    corpus=[]\n",
    "    for tweet in tqdm(data['tweet_text']):\n",
    "        words=[word.lower() for word in word_tokenize(tweet, language='portuguese') if((word.isalpha()==1) & (word not in stop))]\n",
    "        corpus.append(words)\n",
    "    return corpus"
   ]
  },
  {
   "cell_type": "code",
   "execution_count": 12,
   "id": "under-heart",
   "metadata": {},
   "outputs": [
    {
     "name": "stderr",
     "output_type": "stream",
     "text": [
      "100%|████████████████████████████████████████████████████████████████████████████| 1033/1033 [00:00<00:00, 3744.14it/s]\n"
     ]
    }
   ],
   "source": [
    "corpus=create_corpus(data)"
   ]
  },
  {
   "cell_type": "code",
   "execution_count": 13,
   "id": "distinct-zoning",
   "metadata": {},
   "outputs": [
    {
     "name": "stderr",
     "output_type": "stream",
     "text": [
      "929606it [01:15, 12391.26it/s]\n"
     ]
    }
   ],
   "source": [
    "embeddings_index = {}\n",
    "f = open('cbow_s100.txt',encoding='utf-8')\n",
    "for line in tqdm(f):\n",
    "   \tvalues = line.strip().rsplit(' ')\n",
    "   \tword = values[0]\n",
    "   \tcoefs = np.asarray(values[1:], dtype='float32')\n",
    "   \tembeddings_index[word] = coefs\n",
    "f.close()"
   ]
  },
  {
   "cell_type": "code",
   "execution_count": 14,
   "id": "cordless-script",
   "metadata": {},
   "outputs": [],
   "source": [
    "MAX_LEN=50\n",
    "tokenizer_obj=Tokenizer()\n",
    "tokenizer_obj.fit_on_texts(corpus)\n",
    "sequences=tokenizer_obj.texts_to_sequences(corpus)\n",
    "\n",
    "tweet_pad=pad_sequences(sequences,maxlen=MAX_LEN,truncating='post',padding='post')"
   ]
  },
  {
   "cell_type": "code",
   "execution_count": 15,
   "id": "legislative-cambridge",
   "metadata": {},
   "outputs": [
    {
     "name": "stdout",
     "output_type": "stream",
     "text": [
      "Number of unique words: 3619\n"
     ]
    }
   ],
   "source": [
    "word_index=tokenizer_obj.word_index\n",
    "print('Number of unique words:',len(word_index))"
   ]
  },
  {
   "cell_type": "code",
   "execution_count": 16,
   "id": "stone-variable",
   "metadata": {},
   "outputs": [
    {
     "name": "stderr",
     "output_type": "stream",
     "text": [
      "100%|██████████████████████████████████████████████████████████████████████████| 3619/3619 [00:00<00:00, 157457.17it/s]\n"
     ]
    }
   ],
   "source": [
    "num_words=len(word_index)+1\n",
    "embedding_matrix=np.zeros((num_words,100))\n",
    "\n",
    "for word,i in tqdm(word_index.items()):\n",
    "    if i > num_words:\n",
    "        continue\n",
    "    \n",
    "    emb_vec=embeddings_index.get(word)\n",
    "    if emb_vec is not None:\n",
    "        embedding_matrix[i]=emb_vec"
   ]
  },
  {
   "cell_type": "code",
   "execution_count": 17,
   "id": "aware-burning",
   "metadata": {},
   "outputs": [],
   "source": [
    "model=Sequential()\n",
    "\n",
    "embedding=Embedding(num_words,100,embeddings_initializer=Constant(embedding_matrix),\n",
    "                   input_length=MAX_LEN,trainable=False)\n",
    "\n",
    "model.add(embedding)\n",
    "model.add(SpatialDropout1D(0.2))\n",
    "model.add(LSTM(100, dropout=0.2, recurrent_dropout=0.2))\n",
    "model.add(Dense(1, activation='sigmoid'))\n",
    "\n",
    "\n",
    "optimzer=Adam(learning_rate=1e-5)\n",
    "\n",
    "model.compile(loss='binary_crossentropy',optimizer=optimzer,metrics=['accuracy'])"
   ]
  },
  {
   "cell_type": "code",
   "execution_count": 18,
   "id": "selective-electric",
   "metadata": {},
   "outputs": [
    {
     "name": "stdout",
     "output_type": "stream",
     "text": [
      "Model: \"sequential\"\n",
      "_________________________________________________________________\n",
      "Layer (type)                 Output Shape              Param #   \n",
      "=================================================================\n",
      "embedding (Embedding)        (None, 50, 100)           362000    \n",
      "_________________________________________________________________\n",
      "spatial_dropout1d (SpatialDr (None, 50, 100)           0         \n",
      "_________________________________________________________________\n",
      "lstm (LSTM)                  (None, 100)               80400     \n",
      "_________________________________________________________________\n",
      "dense (Dense)                (None, 1)                 101       \n",
      "=================================================================\n",
      "Total params: 442,501\n",
      "Trainable params: 80,501\n",
      "Non-trainable params: 362,000\n",
      "_________________________________________________________________\n"
     ]
    }
   ],
   "source": [
    "model.summary()"
   ]
  },
  {
   "cell_type": "code",
   "execution_count": 46,
   "id": "independent-seminar",
   "metadata": {},
   "outputs": [
    {
     "name": "stdout",
     "output_type": "stream",
     "text": [
      "Shape of train (723, 2)\n",
      "Shape of Validation  (310, 2)\n"
     ]
    }
   ],
   "source": [
    "train,valid=train_test_split(data,test_size=0.30)\n",
    "print('Shape of train',train.shape)\n",
    "print(\"Shape of Validation \",valid.shape)"
   ]
  },
  {
   "cell_type": "code",
   "execution_count": 39,
   "id": "rocky-style",
   "metadata": {},
   "outputs": [],
   "source": [
    "X_train,y_train = tweet_pad[:750],data['target'][:750]\n",
    "X_test,y_test= tweet_pad[750:],data['target'][750:]"
   ]
  },
  {
   "cell_type": "code",
   "execution_count": 40,
   "id": "adapted-farming",
   "metadata": {},
   "outputs": [
    {
     "name": "stdout",
     "output_type": "stream",
     "text": [
      "Epoch 1/10\n",
      "94/94 - 6s - loss: 0.2633 - accuracy: 0.9067 - val_loss: 0.9436 - val_accuracy: 0.6466\n",
      "Epoch 2/10\n",
      "94/94 - 6s - loss: 0.2789 - accuracy: 0.8973 - val_loss: 0.9235 - val_accuracy: 0.6466\n",
      "Epoch 3/10\n",
      "94/94 - 7s - loss: 0.2779 - accuracy: 0.9053 - val_loss: 0.9312 - val_accuracy: 0.6466\n",
      "Epoch 4/10\n",
      "94/94 - 10s - loss: 0.2706 - accuracy: 0.8987 - val_loss: 0.9331 - val_accuracy: 0.6466\n",
      "Epoch 5/10\n",
      "94/94 - 8s - loss: 0.2701 - accuracy: 0.9027 - val_loss: 0.9510 - val_accuracy: 0.6466\n",
      "Epoch 6/10\n",
      "94/94 - 9s - loss: 0.2815 - accuracy: 0.8987 - val_loss: 0.9331 - val_accuracy: 0.6502\n",
      "Epoch 7/10\n",
      "94/94 - 9s - loss: 0.2729 - accuracy: 0.8987 - val_loss: 0.9424 - val_accuracy: 0.6502\n",
      "Epoch 8/10\n",
      "94/94 - 8s - loss: 0.2756 - accuracy: 0.9133 - val_loss: 0.9414 - val_accuracy: 0.6466\n",
      "Epoch 9/10\n",
      "94/94 - 10s - loss: 0.2838 - accuracy: 0.9013 - val_loss: 0.9138 - val_accuracy: 0.6502\n",
      "Epoch 10/10\n",
      "94/94 - 7s - loss: 0.2800 - accuracy: 0.8920 - val_loss: 0.9186 - val_accuracy: 0.6466\n"
     ]
    }
   ],
   "source": [
    "history=model.fit(X_train,y_train,batch_size=8,epochs=10,validation_data=(X_test,y_test),verbose=2, shuffle=True)"
   ]
  },
  {
   "cell_type": "code",
   "execution_count": 42,
   "id": "difficult-joyce",
   "metadata": {},
   "outputs": [],
   "source": [
    "y_pre=model.predict(X_test)\n",
    "y_pre=np.round(y_pre).astype(int).reshape(283)"
   ]
  },
  {
   "cell_type": "code",
   "execution_count": 43,
   "id": "transsexual-manufacturer",
   "metadata": {},
   "outputs": [
    {
     "name": "stdout",
     "output_type": "stream",
     "text": [
      "0.7405893536121675\n"
     ]
    }
   ],
   "source": [
    "print(roc_auc_score(y_pre,y_test))"
   ]
  },
  {
   "cell_type": "code",
   "execution_count": 52,
   "id": "nearby-sussex",
   "metadata": {},
   "outputs": [
    {
     "name": "stdout",
     "output_type": "stream",
     "text": [
      "0.15172951261914758\n"
     ]
    }
   ],
   "source": [
    "print(cohen_kappa_score(y_test, y_pre))"
   ]
  },
  {
   "cell_type": "code",
   "execution_count": null,
   "id": "blond-assault",
   "metadata": {},
   "outputs": [],
   "source": []
  }
 ],
 "metadata": {
  "kernelspec": {
   "display_name": "Python 3",
   "language": "python",
   "name": "python3"
  },
  "language_info": {
   "codemirror_mode": {
    "name": "ipython",
    "version": 3
   },
   "file_extension": ".py",
   "mimetype": "text/x-python",
   "name": "python",
   "nbconvert_exporter": "python",
   "pygments_lexer": "ipython3",
   "version": "3.8.3"
  }
 },
 "nbformat": 4,
 "nbformat_minor": 5
}
